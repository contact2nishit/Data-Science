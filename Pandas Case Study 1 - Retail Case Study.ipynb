{
 "cells": [
  {
   "cell_type": "code",
   "execution_count": 6,
   "metadata": {},
   "outputs": [],
   "source": [
    "import pandas as pd\n",
    "import matplotlib.pyplot as plt"
   ]
  },
  {
   "cell_type": "code",
   "execution_count": 7,
   "metadata": {},
   "outputs": [],
   "source": [
    "#reading the csv input data files\n",
    "cust = pd.read_csv(\"D:/Pyhton/3. Pandas Case Study 1 - Retail Case Study/3. Pandas Case Study 1 - Retail Case Study/Customer.csv\")\n",
    "trx = pd.read_csv(\"D:/Pyhton/3. Pandas Case Study 1 - Retail Case Study/3. Pandas Case Study 1 - Retail Case Study/Transactions.csv\")\n",
    "prdct = pd.read_csv(\"D:/Pyhton/3. Pandas Case Study 1 - Retail Case Study/3. Pandas Case Study 1 - Retail Case Study/prod_cat_info.csv\")"
   ]
  },
  {
   "cell_type": "raw",
   "metadata": {},
   "source": [
    "1. Merge the datasets Customers, Product Hierarchy and Transactions as Customer_Final. Ensure to keep all customers who have done transactions with us and select the join type accordingly"
   ]
  },
  {
   "cell_type": "code",
   "execution_count": 9,
   "metadata": {},
   "outputs": [],
   "source": [
    "customer_final=pd.merge(pd.merge(cust,trx,left_on='customer_Id',right_on='cust_id'),prdct, left_on=['prod_cat_code','prod_subcat_code'],right_on=['prod_cat_code','prod_sub_cat_code']) "
   ]
  },
  {
   "cell_type": "raw",
   "metadata": {},
   "source": [
    "2. Prepare a summary report for the merged data set. \n",
    "    a. Get the column names and their corresponding data types  \n",
    "    b. Top/Bottom 10 observations\n",
    "    c. “Five-number summary” for continuous variables (min, Q1, median, Q3 and max)\n",
    "    d. Frequency tables for all the categorical variables"
   ]
  },
  {
   "cell_type": "code",
   "execution_count": 10,
   "metadata": {},
   "outputs": [
    {
     "name": "stdout",
     "output_type": "stream",
     "text": [
      "<class 'pandas.core.frame.DataFrame'>\n",
      "Int64Index: 23053 entries, 0 to 23052\n",
      "Data columns (total 17 columns):\n",
      "customer_Id          23053 non-null int64\n",
      "DOB                  23053 non-null object\n",
      "Gender               23044 non-null object\n",
      "city_code            23045 non-null float64\n",
      "transaction_id       23053 non-null int64\n",
      "cust_id              23053 non-null int64\n",
      "tran_date            23053 non-null object\n",
      "prod_subcat_code     23053 non-null int64\n",
      "prod_cat_code        23053 non-null int64\n",
      "Qty                  23053 non-null int64\n",
      "Rate                 23053 non-null int64\n",
      "Tax                  23053 non-null float64\n",
      "total_amt            23053 non-null float64\n",
      "Store_type           23053 non-null object\n",
      "prod_cat             23053 non-null object\n",
      "prod_sub_cat_code    23053 non-null int64\n",
      "prod_subcat          23053 non-null object\n",
      "dtypes: float64(3), int64(8), object(6)\n",
      "memory usage: 3.2+ MB\n"
     ]
    },
    {
     "data": {
      "text/plain": [
       "Women                  3048\n",
       "Mens                   2912\n",
       "Kids                   1997\n",
       "Tools                  1062\n",
       "Fiction                1043\n",
       "Kitchen                1037\n",
       "Children               1035\n",
       "Mobiles                1031\n",
       "Comics                 1031\n",
       "Bath                   1023\n",
       "Furnishing             1007\n",
       "Non-Fiction            1004\n",
       "DIY                     989\n",
       "Cameras                 985\n",
       "Personal Appliances     972\n",
       "Academic                967\n",
       "Computers               958\n",
       "Audio and video         952\n",
       "Name: prod_subcat, dtype: int64"
      ]
     },
     "execution_count": 10,
     "metadata": {},
     "output_type": "execute_result"
    }
   ],
   "source": [
    "customer_final.info()\n",
    "customer_final.head(10)\n",
    "customer_final.tail(10)\n",
    "customer_final.describe()\n",
    "customer_final.customer_Id.value_counts()\n",
    "customer_final.Gender.value_counts()\n",
    "customer_final.city_code.value_counts()\n",
    "customer_final.transaction_id.value_counts()\n",
    "customer_final.prod_subcat_code.value_counts()\n",
    "customer_final.prod_cat_code.value_counts()\n",
    "customer_final.Store_type.value_counts()\n",
    "customer_final.prod_cat.value_counts()\n",
    "customer_final.prod_subcat.value_counts()"
   ]
  },
  {
   "cell_type": "raw",
   "metadata": {},
   "source": [
    "3. Generate histograms for all continuous variables and frequency bars for categorical variables. "
   ]
  },
  {
   "cell_type": "code",
   "execution_count": 11,
   "metadata": {},
   "outputs": [],
   "source": [
    "#converting the DOB object to datetime and calcualting age before generating the histogram\n",
    "customer_final['DOB'] = pd.to_datetime(customer_final.DOB, format='%d-%m-%Y')\n",
    "time_difference = (pd.Timestamp.now() - customer_final.DOB)\n",
    "customer_final['Age'] = round(time_difference.apply(lambda x: x.days)/365.25)"
   ]
  },
  {
   "cell_type": "code",
   "execution_count": 12,
   "metadata": {},
   "outputs": [],
   "source": [
    "#cleaning up multiple date formats and then converting to datetime\n",
    "customer_final['tran_date'] =  pd.to_datetime(customer_final['tran_date'].str.replace('/','-'), format='%d-%m-%Y')"
   ]
  },
  {
   "cell_type": "code",
   "execution_count": 196,
   "metadata": {},
   "outputs": [
    {
     "data": {
      "text/plain": [
       "<matplotlib.axes._subplots.AxesSubplot at 0x1c86cb010f0>"
      ]
     },
     "execution_count": 196,
     "metadata": {},
     "output_type": "execute_result"
    },
    {
     "data": {
      "image/png": "[encoded data removed]",
      "text/plain": [
       "<Figure size 432x288 with 1 Axes>"
      ]
     },
     "metadata": {
      "needs_background": "light"
     },
     "output_type": "display_data"
    }
   ],
   "source": [
    "#generating histograms for continuous variables\n",
    "customer_final.Age.hist(bins=5)"
   ]
  },
  {
   "cell_type": "code",
   "execution_count": 197,
   "metadata": {},
   "outputs": [
    {
     "data": {
      "text/plain": [
       "<matplotlib.axes._subplots.AxesSubplot at 0x1c86cc92e48>"
      ]
     },
     "execution_count": 197,
     "metadata": {},
     "output_type": "execute_result"
    },
    {
     "data": {
      "image/png": "[encoded data removed]",
      "text/plain": [
       "<Figure size 432x288 with 1 Axes>"
      ]
     },
     "metadata": {
      "needs_background": "light"
     },
     "output_type": "display_data"
    }
   ],
   "source": [
    "customer_final.Qty.hist(bins=5)\n",
    "customer_final.Rate.hist(bins=5)\n",
    "customer_final.Tax.hist(bins=5)\n",
    "customer_final.total_amt.hist(bins=5)"
   ]
  },
  {
   "cell_type": "code",
   "execution_count": 27,
   "metadata": {},
   "outputs": [
    {
     "data": {
      "text/plain": [
       "<matplotlib.axes._subplots.AxesSubplot at 0x1c869beaf98>"
      ]
     },
     "execution_count": 27,
     "metadata": {},
     "output_type": "execute_result"
    },
    {
     "data": {
      "image/png": "[encoded data removed]",
      "text/plain": [
       "<Figure size 720x360 with 1 Axes>"
      ]
     },
     "metadata": {
      "needs_background": "light"
     },
     "output_type": "display_data"
    }
   ],
   "source": [
    "customer_final.tran_date.hist(bins=5,figsize = (10,5))"
   ]
  },
  {
   "cell_type": "code",
   "execution_count": 153,
   "metadata": {},
   "outputs": [
    {
     "data": {
      "text/plain": [
       "<function matplotlib.pyplot.show(*args, **kw)>"
      ]
     },
     "execution_count": 153,
     "metadata": {},
     "output_type": "execute_result"
    },
    {
     "data": {
      "image/png": "[encoded data removed]",
      "text/plain": [
       "<Figure size 432x288 with 1 Axes>"
      ]
     },
     "metadata": {
      "needs_background": "light"
     },
     "output_type": "display_data"
    }
   ],
   "source": [
    "ser1=customer_final.groupby('customer_Id').customer_Id.count()\n",
    "plt.barh(ser1.index,ser1)\n",
    "plt.show"
   ]
  },
  {
   "cell_type": "code",
   "execution_count": 154,
   "metadata": {},
   "outputs": [
    {
     "data": {
      "text/plain": [
       "<function matplotlib.pyplot.show(*args, **kw)>"
      ]
     },
     "execution_count": 154,
     "metadata": {},
     "output_type": "execute_result"
    },
    {
     "data": {
      "image/png": "[encoded data removed]",
      "text/plain": [
       "<Figure size 432x288 with 1 Axes>"
      ]
     },
     "metadata": {
      "needs_background": "light"
     },
     "output_type": "display_data"
    }
   ],
   "source": [
    "ser1=customer_final.groupby('Gender').customer_Id.count()\n",
    "plt.barh(ser1.index,ser1)\n",
    "plt.show"
   ]
  },
  {
   "cell_type": "code",
   "execution_count": 160,
   "metadata": {},
   "outputs": [
    {
     "data": {
      "text/plain": [
       "<function matplotlib.pyplot.show(*args, **kw)>"
      ]
     },
     "execution_count": 160,
     "metadata": {},
     "output_type": "execute_result"
    },
    {
     "data": {
      "image/png": "[encoded data removed]",
      "text/plain": [
       "<Figure size 432x288 with 1 Axes>"
      ]
     },
     "metadata": {
      "needs_background": "light"
     },
     "output_type": "display_data"
    }
   ],
   "source": [
    "ser1=customer_final.groupby('city_code').customer_Id.count()\n",
    "plt.barh(ser1.index,ser1)\n",
    "plt.show"
   ]
  },
  {
   "cell_type": "code",
   "execution_count": null,
   "metadata": {},
   "outputs": [],
   "source": [
    "ser1=customer_final.groupby('transaction_id').customer_Id.count()\n",
    "plt.barh(ser1.index,ser1)\n",
    "plt.show"
   ]
  },
  {
   "cell_type": "code",
   "execution_count": 157,
   "metadata": {},
   "outputs": [
    {
     "data": {
      "text/plain": [
       "<function matplotlib.pyplot.show(*args, **kw)>"
      ]
     },
     "execution_count": 157,
     "metadata": {},
     "output_type": "execute_result"
    },
    {
     "data": {
      "image/png": "[encoded data removed]",
      "text/plain": [
       "<Figure size 432x288 with 1 Axes>"
      ]
     },
     "metadata": {
      "needs_background": "light"
     },
     "output_type": "display_data"
    }
   ],
   "source": [
    "ser1=customer_final.groupby('prod_subcat_code').customer_Id.count()\n",
    "plt.barh(ser1.index,ser1)\n",
    "plt.show"
   ]
  },
  {
   "cell_type": "code",
   "execution_count": 156,
   "metadata": {},
   "outputs": [
    {
     "data": {
      "text/plain": [
       "<function matplotlib.pyplot.show(*args, **kw)>"
      ]
     },
     "execution_count": 156,
     "metadata": {},
     "output_type": "execute_result"
    },
    {
     "data": {
      "image/png": "[encoded data removed]",
      "text/plain": [
       "<Figure size 432x288 with 1 Axes>"
      ]
     },
     "metadata": {
      "needs_background": "light"
     },
     "output_type": "display_data"
    }
   ],
   "source": [
    "ser1=customer_final.groupby('prod_cat_code').customer_Id.count()\n",
    "plt.barh(ser1.index,ser1)\n",
    "plt.show"
   ]
  },
  {
   "cell_type": "code",
   "execution_count": 155,
   "metadata": {},
   "outputs": [
    {
     "data": {
      "text/plain": [
       "<function matplotlib.pyplot.show(*args, **kw)>"
      ]
     },
     "execution_count": 155,
     "metadata": {},
     "output_type": "execute_result"
    },
    {
     "data": {
      "image/png": "[encoded data removed]",
      "text/plain": [
       "<Figure size 432x288 with 1 Axes>"
      ]
     },
     "metadata": {
      "needs_background": "light"
     },
     "output_type": "display_data"
    }
   ],
   "source": [
    "ser1=customer_final.groupby('Store_type').customer_Id.count()\n",
    "plt.barh(ser1.index,ser1)\n",
    "plt.show"
   ]
  },
  {
   "cell_type": "code",
   "execution_count": 158,
   "metadata": {},
   "outputs": [
    {
     "data": {
      "text/plain": [
       "<function matplotlib.pyplot.show(*args, **kw)>"
      ]
     },
     "execution_count": 158,
     "metadata": {},
     "output_type": "execute_result"
    },
    {
     "data": {
      "image/png": "[encoded data removed]",
      "text/plain": [
       "<Figure size 432x288 with 1 Axes>"
      ]
     },
     "metadata": {
      "needs_background": "light"
     },
     "output_type": "display_data"
    }
   ],
   "source": [
    "ser1=customer_final.groupby('prod_cat').customer_Id.count()\n",
    "plt.barh(ser1.index,ser1)\n",
    "plt.show"
   ]
  },
  {
   "cell_type": "code",
   "execution_count": 159,
   "metadata": {},
   "outputs": [
    {
     "data": {
      "text/plain": [
       "<function matplotlib.pyplot.show(*args, **kw)>"
      ]
     },
     "execution_count": 159,
     "metadata": {},
     "output_type": "execute_result"
    },
    {
     "data": {
      "image/png": "[encoded data removed]",
      "text/plain": [
       "<Figure size 432x288 with 1 Axes>"
      ]
     },
     "metadata": {
      "needs_background": "light"
     },
     "output_type": "display_data"
    }
   ],
   "source": [
    "ser1=customer_final.groupby('prod_subcat').customer_Id.count()\n",
    "plt.barh(ser1.index,ser1)\n",
    "plt.show"
   ]
  },
  {
   "cell_type": "raw",
   "metadata": {},
   "source": [
    "4. Calculate the following information using the merged dataset :   \n",
    "a. Time period of the available transaction data   \n",
    "b. Count of transactions where the total amount of transaction was negative"
   ]
  },
  {
   "cell_type": "code",
   "execution_count": 51,
   "metadata": {},
   "outputs": [
    {
     "name": "stdout",
     "output_type": "stream",
     "text": [
      "3.1  Years\n"
     ]
    }
   ],
   "source": [
    "print (round((customer_final['tran_date'].max() - customer_final['tran_date'].min()).days / 365 , 1), ' Years')"
   ]
  },
  {
   "cell_type": "code",
   "execution_count": 52,
   "metadata": {},
   "outputs": [
    {
     "data": {
      "text/plain": [
       "2177"
      ]
     },
     "execution_count": 52,
     "metadata": {},
     "output_type": "execute_result"
    }
   ],
   "source": [
    "customer_final.total_amt[customer_final.total_amt < 0].count()"
   ]
  },
  {
   "cell_type": "raw",
   "metadata": {},
   "source": [
    "5. Analyze which product categories are more popular among females vs male customers. "
   ]
  },
  {
   "cell_type": "code",
   "execution_count": 95,
   "metadata": {},
   "outputs": [
    {
     "data": {
      "text/html": [
       "<div>\n",
       "<style scoped>\n",
       "    .dataframe tbody tr th:only-of-type {\n",
       "        vertical-align: middle;\n",
       "    }\n",
       "\n",
       "    .dataframe tbody tr th {\n",
       "        vertical-align: top;\n",
       "    }\n",
       "\n",
       "    .dataframe thead th {\n",
       "        text-align: right;\n",
       "    }\n",
       "</style>\n",
       "<table border=\"1\" class=\"dataframe\">\n",
       "  <thead>\n",
       "    <tr style=\"text-align: right;\">\n",
       "      <th>Gender</th>\n",
       "      <th>F</th>\n",
       "      <th>M</th>\n",
       "    </tr>\n",
       "    <tr>\n",
       "      <th>prod_cat</th>\n",
       "      <th></th>\n",
       "      <th></th>\n",
       "    </tr>\n",
       "  </thead>\n",
       "  <tbody>\n",
       "    <tr>\n",
       "      <th>Footwear</th>\n",
       "      <td>1529</td>\n",
       "      <td>1469</td>\n",
       "    </tr>\n",
       "  </tbody>\n",
       "</table>\n",
       "</div>"
      ],
      "text/plain": [
       "Gender       F     M\n",
       "prod_cat            \n",
       "Footwear  1529  1469"
      ]
     },
     "execution_count": 95,
     "metadata": {},
     "output_type": "execute_result"
    }
   ],
   "source": [
    "crossT=customer_final.groupby(['prod_cat','Gender']).customer_Id.count().reset_index()\n",
    "final_set = crossT.pivot('prod_cat','Gender','customer_Id')\n",
    "final_set[final_set.F > final_set.M]"
   ]
  },
  {
   "cell_type": "raw",
   "metadata": {},
   "source": [
    "6. Which City code has the maximum customers and what was the percentage of customers from that city? "
   ]
  },
  {
   "cell_type": "code",
   "execution_count": 139,
   "metadata": {
    "scrolled": true
   },
   "outputs": [
    {
     "data": {
      "text/plain": [
       "city_code         4.000000\n",
       "customer_Id    2422.000000\n",
       "percentage       10.509872\n",
       "Name: 3, dtype: float64"
      ]
     },
     "execution_count": 139,
     "metadata": {},
     "output_type": "execute_result"
    }
   ],
   "source": [
    "final_set = customer_final.groupby('city_code',as_index = False).customer_Id.count()\n",
    "final_set['percentage'] = (final_set['customer_Id'] / final_set.customer_Id.sum()) * 100\n",
    "final_set.loc[final_set['customer_Id'].idxmax()]"
   ]
  },
  {
   "cell_type": "raw",
   "metadata": {},
   "source": [
    "7. Which store type sells the maximum products by value and by quantity?"
   ]
  },
  {
   "cell_type": "code",
   "execution_count": 155,
   "metadata": {},
   "outputs": [
    {
     "data": {
      "text/plain": [
       "Store_type         e-Shop\n",
       "Qty                 22763\n",
       "total_amt     1.98248e+07\n",
       "Name: 3, dtype: object"
      ]
     },
     "execution_count": 155,
     "metadata": {},
     "output_type": "execute_result"
    }
   ],
   "source": [
    "final_set = customer_final.groupby('Store_type',as_index = False)[['Qty','total_amt']].sum()\n",
    "final_set.loc[final_set['Qty'].idxmax()] \n"
   ]
  },
  {
   "cell_type": "code",
   "execution_count": 156,
   "metadata": {},
   "outputs": [
    {
     "data": {
      "text/plain": [
       "Store_type         e-Shop\n",
       "Qty                 22763\n",
       "total_amt     1.98248e+07\n",
       "Name: 3, dtype: object"
      ]
     },
     "execution_count": 156,
     "metadata": {},
     "output_type": "execute_result"
    }
   ],
   "source": [
    "final_set.loc[final_set['total_amt'].idxmax()] "
   ]
  },
  {
   "cell_type": "raw",
   "metadata": {},
   "source": [
    " 8. What was the total amount earned from the \"Electronics\" and \"Clothing\" categories from Flagship Stores? "
   ]
  },
  {
   "cell_type": "code",
   "execution_count": 165,
   "metadata": {},
   "outputs": [
    {
     "data": {
      "text/plain": [
       "3409559.27"
      ]
     },
     "execution_count": 165,
     "metadata": {},
     "output_type": "execute_result"
    }
   ],
   "source": [
    "customer_final[(customer_final.Store_type == 'Flagship store') & ((customer_final.prod_cat == 'Electronics') | (customer_final.prod_cat == 'Clothing' ))].total_amt.sum()"
   ]
  },
  {
   "cell_type": "raw",
   "metadata": {},
   "source": [
    "9. What was the total amount earned from \"Male\" customers under the \"Electronics\" category? "
   ]
  },
  {
   "cell_type": "code",
   "execution_count": 166,
   "metadata": {},
   "outputs": [
    {
     "data": {
      "text/plain": [
       "5703109.425"
      ]
     },
     "execution_count": 166,
     "metadata": {},
     "output_type": "execute_result"
    }
   ],
   "source": [
    "customer_final[(customer_final.Gender == 'M') & (customer_final.prod_cat == 'Electronics')].total_amt.sum()"
   ]
  },
  {
   "cell_type": "raw",
   "metadata": {},
   "source": [
    "10. How many customers have more than 10 unique transactions, after removing all transactions which have any negative amounts? "
   ]
  },
  {
   "cell_type": "code",
   "execution_count": 195,
   "metadata": {},
   "outputs": [
    {
     "data": {
      "text/plain": [
       "6"
      ]
     },
     "execution_count": 195,
     "metadata": {},
     "output_type": "execute_result"
    }
   ],
   "source": [
    "customer_new = customer_final[- customer_final.total_amt < 0 ].groupby('customer_Id',as_index = False).transaction_id.count()\n",
    "customer_new[customer_new.transaction_id > 10].customer_Id.count()"
   ]
  },
  {
   "cell_type": "raw",
   "metadata": {},
   "source": [
    "11. For all customers aged between 25 - 35, find out:    \n",
    "a. What was the total amount spent for “Electronics” and “Books” product categories?    \n",
    "b. What was the total amount spent by these customers between 1st Jan, 2014 to 1st Mar, 2014?\n"
   ]
  },
  {
   "cell_type": "code",
   "execution_count": 201,
   "metadata": {},
   "outputs": [
    {
     "data": {
      "text/plain": [
       "8888102.86"
      ]
     },
     "execution_count": 201,
     "metadata": {},
     "output_type": "execute_result"
    }
   ],
   "source": [
    "customer_final[(customer_final.Age >= 25) & (customer_final.Age <= 35) & ((customer_final.prod_cat == 'Electronics') | (customer_final.prod_cat == 'Books'))].total_amt.sum()"
   ]
  },
  {
   "cell_type": "code",
   "execution_count": 202,
   "metadata": {},
   "outputs": [
    {
     "data": {
      "text/plain": [
       "909221.625"
      ]
     },
     "execution_count": 202,
     "metadata": {},
     "output_type": "execute_result"
    }
   ],
   "source": [
    "customer_final[(customer_final.Age >= 25) & (customer_final.Age <= 35) & (customer_final.tran_date >= pd.Timestamp.strptime('01-01-2014','%d-%m-%Y')) & (customer_final.tran_date <= pd.Timestamp.strptime('01-03-2014','%d-%m-%Y'))].total_amt.sum()"
   ]
  }
 ],
 "metadata": {
  "kernelspec": {
   "display_name": "Python 3",
   "language": "python",
   "name": "python3"
  },
  "language_info": {
   "codemirror_mode": {
    "name": "ipython",
    "version": 3
   },
   "file_extension": ".py",
   "mimetype": "text/x-python",
   "name": "python",
   "nbconvert_exporter": "python",
   "pygments_lexer": "ipython3",
   "version": "3.7.3"
  }
 },
 "nbformat": 4,
 "nbformat_minor": 2
}
