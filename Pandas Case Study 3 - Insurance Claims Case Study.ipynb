{
 "cells": [
  {
   "cell_type": "code",
   "execution_count": 1,
   "metadata": {},
   "outputs": [],
   "source": [
    "import pandas as pd\n",
    "import numpy as np\n",
    "import matplotlib.pyplot as plt\n",
    "%matplotlib inline\n"
   ]
  },
  {
   "cell_type": "code",
   "execution_count": 2,
   "metadata": {},
   "outputs": [],
   "source": [
    "#1. Import claims_data.csv and cust_data.csv which is provided to you and combine the two datasets appropriately \n",
    "# to create a 360-degree view of the data. Use the same for the subsequent questions.\n",
    "claims=pd.read_csv(\"D:\\Pyhton\\Pandas Case Study 3 - Insurance Claims Case Study\\claims.csv\")\n",
    "cust_demo=pd.read_csv(\"D:\\Pyhton\\Pandas Case Study 3 - Insurance Claims Case Study\\cust_demographics.csv\")"
   ]
  },
  {
   "cell_type": "code",
   "execution_count": 3,
   "metadata": {},
   "outputs": [
    {
     "data": {
      "text/html": [
       "<div>\n",
       "<style scoped>\n",
       "    .dataframe tbody tr th:only-of-type {\n",
       "        vertical-align: middle;\n",
       "    }\n",
       "\n",
       "    .dataframe tbody tr th {\n",
       "        vertical-align: top;\n",
       "    }\n",
       "\n",
       "    .dataframe thead th {\n",
       "        text-align: right;\n",
       "    }\n",
       "</style>\n",
       "<table border=\"1\" class=\"dataframe\">\n",
       "  <thead>\n",
       "    <tr style=\"text-align: right;\">\n",
       "      <th></th>\n",
       "      <th>claim_id</th>\n",
       "      <th>customer_id</th>\n",
       "      <th>incident_cause</th>\n",
       "      <th>claim_date</th>\n",
       "      <th>claim_area</th>\n",
       "      <th>police_report</th>\n",
       "      <th>claim_type</th>\n",
       "      <th>claim_amount</th>\n",
       "      <th>total_policy_claims</th>\n",
       "      <th>fraudulent</th>\n",
       "    </tr>\n",
       "  </thead>\n",
       "  <tbody>\n",
       "    <tr>\n",
       "      <th>0</th>\n",
       "      <td>54004764</td>\n",
       "      <td>21868593</td>\n",
       "      <td>Driver error</td>\n",
       "      <td>11/27/2017</td>\n",
       "      <td>Auto</td>\n",
       "      <td>No</td>\n",
       "      <td>Material only</td>\n",
       "      <td>$2980</td>\n",
       "      <td>1.0</td>\n",
       "      <td>No</td>\n",
       "    </tr>\n",
       "    <tr>\n",
       "      <th>1</th>\n",
       "      <td>33985796</td>\n",
       "      <td>75740424</td>\n",
       "      <td>Crime</td>\n",
       "      <td>10/03/2018</td>\n",
       "      <td>Home</td>\n",
       "      <td>Unknown</td>\n",
       "      <td>Material only</td>\n",
       "      <td>$2980</td>\n",
       "      <td>3.0</td>\n",
       "      <td>No</td>\n",
       "    </tr>\n",
       "    <tr>\n",
       "      <th>2</th>\n",
       "      <td>53522022</td>\n",
       "      <td>30308357</td>\n",
       "      <td>Other driver error</td>\n",
       "      <td>02/02/2018</td>\n",
       "      <td>Auto</td>\n",
       "      <td>No</td>\n",
       "      <td>Material only</td>\n",
       "      <td>$3369.5</td>\n",
       "      <td>1.0</td>\n",
       "      <td>Yes</td>\n",
       "    </tr>\n",
       "    <tr>\n",
       "      <th>3</th>\n",
       "      <td>13015401</td>\n",
       "      <td>47830476</td>\n",
       "      <td>Natural causes</td>\n",
       "      <td>06/17/2018</td>\n",
       "      <td>Auto</td>\n",
       "      <td>No</td>\n",
       "      <td>Material only</td>\n",
       "      <td>$1680</td>\n",
       "      <td>1.0</td>\n",
       "      <td>No</td>\n",
       "    </tr>\n",
       "    <tr>\n",
       "      <th>4</th>\n",
       "      <td>22890252</td>\n",
       "      <td>19269962</td>\n",
       "      <td>Crime</td>\n",
       "      <td>01/13/2018</td>\n",
       "      <td>Auto</td>\n",
       "      <td>No</td>\n",
       "      <td>Material only</td>\n",
       "      <td>$2680</td>\n",
       "      <td>1.0</td>\n",
       "      <td>No</td>\n",
       "    </tr>\n",
       "  </tbody>\n",
       "</table>\n",
       "</div>"
      ],
      "text/plain": [
       "   claim_id  customer_id      incident_cause  claim_date claim_area  \\\n",
       "0  54004764     21868593        Driver error  11/27/2017       Auto   \n",
       "1  33985796     75740424               Crime  10/03/2018       Home   \n",
       "2  53522022     30308357  Other driver error  02/02/2018       Auto   \n",
       "3  13015401     47830476      Natural causes  06/17/2018       Auto   \n",
       "4  22890252     19269962               Crime  01/13/2018       Auto   \n",
       "\n",
       "  police_report     claim_type claim_amount  total_policy_claims fraudulent  \n",
       "0            No  Material only        $2980                  1.0         No  \n",
       "1       Unknown  Material only        $2980                  3.0         No  \n",
       "2            No  Material only      $3369.5                  1.0        Yes  \n",
       "3            No  Material only        $1680                  1.0         No  \n",
       "4            No  Material only        $2680                  1.0         No  "
      ]
     },
     "execution_count": 3,
     "metadata": {},
     "output_type": "execute_result"
    }
   ],
   "source": [
    "claims.head(5)"
   ]
  },
  {
   "cell_type": "code",
   "execution_count": 5,
   "metadata": {},
   "outputs": [
    {
     "data": {
      "text/html": [
       "<div>\n",
       "<style scoped>\n",
       "    .dataframe tbody tr th:only-of-type {\n",
       "        vertical-align: middle;\n",
       "    }\n",
       "\n",
       "    .dataframe tbody tr th {\n",
       "        vertical-align: top;\n",
       "    }\n",
       "\n",
       "    .dataframe thead th {\n",
       "        text-align: right;\n",
       "    }\n",
       "</style>\n",
       "<table border=\"1\" class=\"dataframe\">\n",
       "  <thead>\n",
       "    <tr style=\"text-align: right;\">\n",
       "      <th></th>\n",
       "      <th>CUST_ID</th>\n",
       "      <th>gender</th>\n",
       "      <th>DateOfBirth</th>\n",
       "      <th>State</th>\n",
       "      <th>Contact</th>\n",
       "      <th>Segment</th>\n",
       "    </tr>\n",
       "  </thead>\n",
       "  <tbody>\n",
       "    <tr>\n",
       "      <th>0</th>\n",
       "      <td>21868593</td>\n",
       "      <td>Female</td>\n",
       "      <td>12-Jan-79</td>\n",
       "      <td>VT</td>\n",
       "      <td>789-916-8172</td>\n",
       "      <td>Platinum</td>\n",
       "    </tr>\n",
       "    <tr>\n",
       "      <th>1</th>\n",
       "      <td>75740424</td>\n",
       "      <td>Female</td>\n",
       "      <td>13-Jan-70</td>\n",
       "      <td>ME</td>\n",
       "      <td>265-543-1264</td>\n",
       "      <td>Silver</td>\n",
       "    </tr>\n",
       "    <tr>\n",
       "      <th>2</th>\n",
       "      <td>30308357</td>\n",
       "      <td>Female</td>\n",
       "      <td>11-Mar-84</td>\n",
       "      <td>TN</td>\n",
       "      <td>798-631-4758</td>\n",
       "      <td>Silver</td>\n",
       "    </tr>\n",
       "    <tr>\n",
       "      <th>3</th>\n",
       "      <td>47830476</td>\n",
       "      <td>Female</td>\n",
       "      <td>01-May-86</td>\n",
       "      <td>MA</td>\n",
       "      <td>413-187-7945</td>\n",
       "      <td>Silver</td>\n",
       "    </tr>\n",
       "    <tr>\n",
       "      <th>4</th>\n",
       "      <td>19269962</td>\n",
       "      <td>Male</td>\n",
       "      <td>13-May-77</td>\n",
       "      <td>NV</td>\n",
       "      <td>956-871-8691</td>\n",
       "      <td>Gold</td>\n",
       "    </tr>\n",
       "  </tbody>\n",
       "</table>\n",
       "</div>"
      ],
      "text/plain": [
       "    CUST_ID  gender DateOfBirth State       Contact   Segment\n",
       "0  21868593  Female   12-Jan-79    VT  789-916-8172  Platinum\n",
       "1  75740424  Female   13-Jan-70    ME  265-543-1264    Silver\n",
       "2  30308357  Female   11-Mar-84    TN  798-631-4758    Silver\n",
       "3  47830476  Female   01-May-86    MA  413-187-7945    Silver\n",
       "4  19269962    Male   13-May-77    NV  956-871-8691      Gold"
      ]
     },
     "execution_count": 5,
     "metadata": {},
     "output_type": "execute_result"
    }
   ],
   "source": [
    "cust_demo.head(5)"
   ]
  },
  {
   "cell_type": "code",
   "execution_count": 6,
   "metadata": {},
   "outputs": [
    {
     "data": {
      "text/html": [
       "<div>\n",
       "<style scoped>\n",
       "    .dataframe tbody tr th:only-of-type {\n",
       "        vertical-align: middle;\n",
       "    }\n",
       "\n",
       "    .dataframe tbody tr th {\n",
       "        vertical-align: top;\n",
       "    }\n",
       "\n",
       "    .dataframe thead th {\n",
       "        text-align: right;\n",
       "    }\n",
       "</style>\n",
       "<table border=\"1\" class=\"dataframe\">\n",
       "  <thead>\n",
       "    <tr style=\"text-align: right;\">\n",
       "      <th></th>\n",
       "      <th>CUST_ID</th>\n",
       "      <th>gender</th>\n",
       "      <th>DateOfBirth</th>\n",
       "      <th>State</th>\n",
       "      <th>Contact</th>\n",
       "      <th>Segment</th>\n",
       "      <th>claim_id</th>\n",
       "      <th>incident_cause</th>\n",
       "      <th>claim_date</th>\n",
       "      <th>claim_area</th>\n",
       "      <th>police_report</th>\n",
       "      <th>claim_type</th>\n",
       "      <th>claim_amount</th>\n",
       "      <th>total_policy_claims</th>\n",
       "      <th>fraudulent</th>\n",
       "    </tr>\n",
       "  </thead>\n",
       "  <tbody>\n",
       "    <tr>\n",
       "      <th>0</th>\n",
       "      <td>21868593</td>\n",
       "      <td>Female</td>\n",
       "      <td>12-Jan-79</td>\n",
       "      <td>VT</td>\n",
       "      <td>789-916-8172</td>\n",
       "      <td>Platinum</td>\n",
       "      <td>54004764.0</td>\n",
       "      <td>Driver error</td>\n",
       "      <td>11/27/2017</td>\n",
       "      <td>Auto</td>\n",
       "      <td>No</td>\n",
       "      <td>Material only</td>\n",
       "      <td>$2980</td>\n",
       "      <td>1.0</td>\n",
       "      <td>No</td>\n",
       "    </tr>\n",
       "    <tr>\n",
       "      <th>1</th>\n",
       "      <td>75740424</td>\n",
       "      <td>Female</td>\n",
       "      <td>13-Jan-70</td>\n",
       "      <td>ME</td>\n",
       "      <td>265-543-1264</td>\n",
       "      <td>Silver</td>\n",
       "      <td>33985796.0</td>\n",
       "      <td>Crime</td>\n",
       "      <td>10/03/2018</td>\n",
       "      <td>Home</td>\n",
       "      <td>Unknown</td>\n",
       "      <td>Material only</td>\n",
       "      <td>$2980</td>\n",
       "      <td>3.0</td>\n",
       "      <td>No</td>\n",
       "    </tr>\n",
       "    <tr>\n",
       "      <th>2</th>\n",
       "      <td>30308357</td>\n",
       "      <td>Female</td>\n",
       "      <td>11-Mar-84</td>\n",
       "      <td>TN</td>\n",
       "      <td>798-631-4758</td>\n",
       "      <td>Silver</td>\n",
       "      <td>53522022.0</td>\n",
       "      <td>Other driver error</td>\n",
       "      <td>02/02/2018</td>\n",
       "      <td>Auto</td>\n",
       "      <td>No</td>\n",
       "      <td>Material only</td>\n",
       "      <td>$3369.5</td>\n",
       "      <td>1.0</td>\n",
       "      <td>Yes</td>\n",
       "    </tr>\n",
       "    <tr>\n",
       "      <th>3</th>\n",
       "      <td>30308357</td>\n",
       "      <td>Female</td>\n",
       "      <td>11-Mar-84</td>\n",
       "      <td>TN</td>\n",
       "      <td>798-631-4758</td>\n",
       "      <td>Silver</td>\n",
       "      <td>63017412.0</td>\n",
       "      <td>Driver error</td>\n",
       "      <td>04/04/2018</td>\n",
       "      <td>Auto</td>\n",
       "      <td>No</td>\n",
       "      <td>Material only</td>\n",
       "      <td>$1950</td>\n",
       "      <td>6.0</td>\n",
       "      <td>No</td>\n",
       "    </tr>\n",
       "    <tr>\n",
       "      <th>4</th>\n",
       "      <td>47830476</td>\n",
       "      <td>Female</td>\n",
       "      <td>01-May-86</td>\n",
       "      <td>MA</td>\n",
       "      <td>413-187-7945</td>\n",
       "      <td>Silver</td>\n",
       "      <td>13015401.0</td>\n",
       "      <td>Natural causes</td>\n",
       "      <td>06/17/2018</td>\n",
       "      <td>Auto</td>\n",
       "      <td>No</td>\n",
       "      <td>Material only</td>\n",
       "      <td>$1680</td>\n",
       "      <td>1.0</td>\n",
       "      <td>No</td>\n",
       "    </tr>\n",
       "  </tbody>\n",
       "</table>\n",
       "</div>"
      ],
      "text/plain": [
       "    CUST_ID  gender DateOfBirth State       Contact   Segment    claim_id  \\\n",
       "0  21868593  Female   12-Jan-79    VT  789-916-8172  Platinum  54004764.0   \n",
       "1  75740424  Female   13-Jan-70    ME  265-543-1264    Silver  33985796.0   \n",
       "2  30308357  Female   11-Mar-84    TN  798-631-4758    Silver  53522022.0   \n",
       "3  30308357  Female   11-Mar-84    TN  798-631-4758    Silver  63017412.0   \n",
       "4  47830476  Female   01-May-86    MA  413-187-7945    Silver  13015401.0   \n",
       "\n",
       "       incident_cause  claim_date claim_area police_report     claim_type  \\\n",
       "0        Driver error  11/27/2017       Auto            No  Material only   \n",
       "1               Crime  10/03/2018       Home       Unknown  Material only   \n",
       "2  Other driver error  02/02/2018       Auto            No  Material only   \n",
       "3        Driver error  04/04/2018       Auto            No  Material only   \n",
       "4      Natural causes  06/17/2018       Auto            No  Material only   \n",
       "\n",
       "  claim_amount  total_policy_claims fraudulent  \n",
       "0        $2980                  1.0         No  \n",
       "1        $2980                  3.0         No  \n",
       "2      $3369.5                  1.0        Yes  \n",
       "3        $1950                  6.0         No  \n",
       "4        $1680                  1.0         No  "
      ]
     },
     "execution_count": 6,
     "metadata": {},
     "output_type": "execute_result"
    }
   ],
   "source": [
    "#there are customers who have not made any claims, still including them to get 360 degree view\n",
    "insurance_claim=pd.merge(left=cust_demo, right=claims,left_on='CUST_ID',right_on='customer_id',how='left')\n",
    "insurance_claim.drop(columns=['customer_id'],inplace=True)\n",
    "insurance_claim.head(5)"
   ]
  },
  {
   "cell_type": "code",
   "execution_count": 7,
   "metadata": {},
   "outputs": [
    {
     "name": "stdout",
     "output_type": "stream",
     "text": [
      "<class 'pandas.core.frame.DataFrame'>\n",
      "Int64Index: 1092 entries, 0 to 1091\n",
      "Data columns (total 15 columns):\n",
      "CUST_ID                1092 non-null int64\n",
      "gender                 1092 non-null object\n",
      "DateOfBirth            1092 non-null object\n",
      "State                  1092 non-null object\n",
      "Contact                1092 non-null object\n",
      "Segment                1092 non-null object\n",
      "claim_id               1085 non-null float64\n",
      "incident_cause         1085 non-null object\n",
      "claim_date             1085 non-null object\n",
      "claim_area             1085 non-null object\n",
      "police_report          1085 non-null object\n",
      "claim_type             1085 non-null object\n",
      "claim_amount           1020 non-null object\n",
      "total_policy_claims    1075 non-null float64\n",
      "fraudulent             1085 non-null object\n",
      "dtypes: float64(2), int64(1), object(12)\n",
      "memory usage: 136.5+ KB\n"
     ]
    }
   ],
   "source": [
    "#2. Perform a data audit for the datatypes and find out if there are any mismatch within\n",
    "# the current datatypes of the columns and their business significance.\n",
    "insurance_claim.info()"
   ]
  },
  {
   "cell_type": "code",
   "execution_count": 8,
   "metadata": {},
   "outputs": [],
   "source": [
    "#DateOfBirth object -> should be datetime64[ns]\n",
    "#claim_date object -> should be datetime64[ns]\n",
    "#claim_amount object -> should be float64"
   ]
  },
  {
   "cell_type": "code",
   "execution_count": 8,
   "metadata": {},
   "outputs": [],
   "source": [
    "#3. Convert the column claim_amount to numeric. Use the appropriate modules/attributes to remove the $ sign.\n",
    "insurance_claim.loc[:,'claim_amount']=pd.to_numeric(insurance_claim.claim_amount.str[1:])"
   ]
  },
  {
   "cell_type": "code",
   "execution_count": 9,
   "metadata": {},
   "outputs": [
    {
     "name": "stdout",
     "output_type": "stream",
     "text": [
      "<class 'pandas.core.frame.DataFrame'>\n",
      "Int64Index: 1092 entries, 0 to 1091\n",
      "Data columns (total 15 columns):\n",
      "CUST_ID                1092 non-null int64\n",
      "gender                 1092 non-null object\n",
      "DateOfBirth            1092 non-null object\n",
      "State                  1092 non-null object\n",
      "Contact                1092 non-null object\n",
      "Segment                1092 non-null object\n",
      "claim_id               1085 non-null float64\n",
      "incident_cause         1085 non-null object\n",
      "claim_date             1085 non-null object\n",
      "claim_area             1085 non-null object\n",
      "police_report          1085 non-null object\n",
      "claim_type             1085 non-null object\n",
      "claim_amount           1020 non-null float64\n",
      "total_policy_claims    1075 non-null float64\n",
      "fraudulent             1085 non-null object\n",
      "dtypes: float64(3), int64(1), object(11)\n",
      "memory usage: 136.5+ KB\n"
     ]
    }
   ],
   "source": [
    "insurance_claim.info()"
   ]
  },
  {
   "cell_type": "code",
   "execution_count": 10,
   "metadata": {},
   "outputs": [],
   "source": [
    "#4.Of all the injury claims, some of them have gone unreported with the police. \n",
    "#Create an alert flag (1,0) for all such claims. \n",
    "insurance_claim.loc[:,'alert_flag']=np.where(insurance_claim.claim_id.isnull(),np.NaN,np.where(insurance_claim.claim_type.str.contains('njury'),np.where(insurance_claim.police_report=='Yes',0,1),0))"
   ]
  },
  {
   "cell_type": "code",
   "execution_count": 11,
   "metadata": {},
   "outputs": [
    {
     "data": {
      "text/plain": [
       "1092"
      ]
     },
     "execution_count": 11,
     "metadata": {},
     "output_type": "execute_result"
    }
   ],
   "source": [
    "#5. One customer can claim for insurance more than once and in each claim, multiple categories of claims can be involved.\n",
    "# However, customer ID should remain unique. Retain the most recent observation and delete any duplicated records \n",
    "# in the data based on the customer ID column.\n",
    "\n",
    "#converting data type to datetime for claim date\n",
    "insurance_claim.loc[:,'claim_date']=pd.to_datetime(insurance_claim.claim_date,format='%m/%d/%Y')\n",
    "#making copy and dropping duplicates\n",
    "recent_claims=insurance_claim.drop_duplicates().sort_values(by=['CUST_ID','claim_date'], ascending = False).reset_index()\n",
    "#dropping old dataframe indexes\n",
    "recent_claims.drop(columns=['index'],inplace=True)\n",
    "recent_claims.shape[0]"
   ]
  },
  {
   "cell_type": "code",
   "execution_count": 12,
   "metadata": {},
   "outputs": [
    {
     "data": {
      "text/plain": [
       "1085"
      ]
     },
     "execution_count": 12,
     "metadata": {},
     "output_type": "execute_result"
    }
   ],
   "source": [
    "#as rows in dataframe are sorted on claim date in descending order, keeping first would remove old records for each customer\n",
    "recent_claims.drop_duplicates(['CUST_ID'],keep='first',inplace = True)\n",
    "recent_claims.shape[0]"
   ]
  },
  {
   "cell_type": "code",
   "execution_count": 13,
   "metadata": {},
   "outputs": [
    {
     "data": {
      "text/html": [
       "<div>\n",
       "<style scoped>\n",
       "    .dataframe tbody tr th:only-of-type {\n",
       "        vertical-align: middle;\n",
       "    }\n",
       "\n",
       "    .dataframe tbody tr th {\n",
       "        vertical-align: top;\n",
       "    }\n",
       "\n",
       "    .dataframe thead th {\n",
       "        text-align: right;\n",
       "    }\n",
       "</style>\n",
       "<table border=\"1\" class=\"dataframe\">\n",
       "  <thead>\n",
       "    <tr style=\"text-align: right;\">\n",
       "      <th></th>\n",
       "      <th>CUST_ID</th>\n",
       "      <th>gender</th>\n",
       "      <th>DateOfBirth</th>\n",
       "      <th>State</th>\n",
       "      <th>Contact</th>\n",
       "      <th>Segment</th>\n",
       "      <th>claim_id</th>\n",
       "      <th>incident_cause</th>\n",
       "      <th>claim_date</th>\n",
       "      <th>claim_area</th>\n",
       "      <th>police_report</th>\n",
       "      <th>claim_type</th>\n",
       "      <th>claim_amount</th>\n",
       "      <th>total_policy_claims</th>\n",
       "      <th>fraudulent</th>\n",
       "      <th>alert_flag</th>\n",
       "    </tr>\n",
       "  </thead>\n",
       "  <tbody>\n",
       "    <tr>\n",
       "      <th>0</th>\n",
       "      <td>99961993</td>\n",
       "      <td>Male</td>\n",
       "      <td>10-Jun-95</td>\n",
       "      <td>AL</td>\n",
       "      <td>234-943-2876</td>\n",
       "      <td>Platinum</td>\n",
       "      <td>47262068.0</td>\n",
       "      <td>Driver error</td>\n",
       "      <td>2018-10-23</td>\n",
       "      <td>Home</td>\n",
       "      <td>No</td>\n",
       "      <td>Material only</td>\n",
       "      <td>2310.0</td>\n",
       "      <td>1.0</td>\n",
       "      <td>No</td>\n",
       "      <td>0.0</td>\n",
       "    </tr>\n",
       "    <tr>\n",
       "      <th>1</th>\n",
       "      <td>99892000</td>\n",
       "      <td>Male</td>\n",
       "      <td>08-Jun-95</td>\n",
       "      <td>OR</td>\n",
       "      <td>395-246-6172</td>\n",
       "      <td>Gold</td>\n",
       "      <td>22960702.0</td>\n",
       "      <td>Driver error</td>\n",
       "      <td>2017-11-13</td>\n",
       "      <td>Auto</td>\n",
       "      <td>No</td>\n",
       "      <td>Material only</td>\n",
       "      <td>2415.0</td>\n",
       "      <td>2.0</td>\n",
       "      <td>Yes</td>\n",
       "      <td>0.0</td>\n",
       "    </tr>\n",
       "    <tr>\n",
       "      <th>2</th>\n",
       "      <td>99761663</td>\n",
       "      <td>Female</td>\n",
       "      <td>18-Nov-63</td>\n",
       "      <td>NC</td>\n",
       "      <td>643-246-4718</td>\n",
       "      <td>Silver</td>\n",
       "      <td>37305754.0</td>\n",
       "      <td>Natural causes</td>\n",
       "      <td>2018-04-04</td>\n",
       "      <td>Auto</td>\n",
       "      <td>No</td>\n",
       "      <td>Material only</td>\n",
       "      <td>1242.0</td>\n",
       "      <td>1.0</td>\n",
       "      <td>Yes</td>\n",
       "      <td>0.0</td>\n",
       "    </tr>\n",
       "    <tr>\n",
       "      <th>3</th>\n",
       "      <td>99723844</td>\n",
       "      <td>Female</td>\n",
       "      <td>19-Jun-66</td>\n",
       "      <td>HI</td>\n",
       "      <td>457-752-1374</td>\n",
       "      <td>Gold</td>\n",
       "      <td>35453672.0</td>\n",
       "      <td>Natural causes</td>\n",
       "      <td>2018-01-06</td>\n",
       "      <td>Auto</td>\n",
       "      <td>Yes</td>\n",
       "      <td>Material and injury</td>\n",
       "      <td>14360.0</td>\n",
       "      <td>1.0</td>\n",
       "      <td>No</td>\n",
       "      <td>0.0</td>\n",
       "    </tr>\n",
       "    <tr>\n",
       "      <th>4</th>\n",
       "      <td>99674324</td>\n",
       "      <td>Male</td>\n",
       "      <td>28-Jan-65</td>\n",
       "      <td>UT</td>\n",
       "      <td>517-562-4916</td>\n",
       "      <td>Silver</td>\n",
       "      <td>4549014.0</td>\n",
       "      <td>Other causes</td>\n",
       "      <td>2018-07-07</td>\n",
       "      <td>Auto</td>\n",
       "      <td>No</td>\n",
       "      <td>Injury only</td>\n",
       "      <td>21480.0</td>\n",
       "      <td>1.0</td>\n",
       "      <td>No</td>\n",
       "      <td>1.0</td>\n",
       "    </tr>\n",
       "  </tbody>\n",
       "</table>\n",
       "</div>"
      ],
      "text/plain": [
       "    CUST_ID  gender DateOfBirth State       Contact   Segment    claim_id  \\\n",
       "0  99961993    Male   10-Jun-95    AL  234-943-2876  Platinum  47262068.0   \n",
       "1  99892000    Male   08-Jun-95    OR  395-246-6172      Gold  22960702.0   \n",
       "2  99761663  Female   18-Nov-63    NC  643-246-4718    Silver  37305754.0   \n",
       "3  99723844  Female   19-Jun-66    HI  457-752-1374      Gold  35453672.0   \n",
       "4  99674324    Male   28-Jan-65    UT  517-562-4916    Silver   4549014.0   \n",
       "\n",
       "   incident_cause claim_date claim_area police_report           claim_type  \\\n",
       "0    Driver error 2018-10-23       Home            No        Material only   \n",
       "1    Driver error 2017-11-13       Auto            No        Material only   \n",
       "2  Natural causes 2018-04-04       Auto            No        Material only   \n",
       "3  Natural causes 2018-01-06       Auto           Yes  Material and injury   \n",
       "4    Other causes 2018-07-07       Auto            No          Injury only   \n",
       "\n",
       "   claim_amount  total_policy_claims fraudulent  alert_flag  \n",
       "0        2310.0                  1.0         No         0.0  \n",
       "1        2415.0                  2.0        Yes         0.0  \n",
       "2        1242.0                  1.0        Yes         0.0  \n",
       "3       14360.0                  1.0         No         0.0  \n",
       "4       21480.0                  1.0         No         1.0  "
      ]
     },
     "execution_count": 13,
     "metadata": {},
     "output_type": "execute_result"
    }
   ],
   "source": [
    "recent_claims.head(5)"
   ]
  },
  {
   "cell_type": "code",
   "execution_count": 14,
   "metadata": {},
   "outputs": [
    {
     "name": "stdout",
     "output_type": "stream",
     "text": [
      "<class 'pandas.core.frame.DataFrame'>\n",
      "Int64Index: 1092 entries, 0 to 1091\n",
      "Data columns (total 16 columns):\n",
      "CUST_ID                1092 non-null int64\n",
      "gender                 1092 non-null object\n",
      "DateOfBirth            1092 non-null object\n",
      "State                  1092 non-null object\n",
      "Contact                1092 non-null object\n",
      "Segment                1092 non-null object\n",
      "claim_id               1085 non-null float64\n",
      "incident_cause         1085 non-null object\n",
      "claim_date             1085 non-null datetime64[ns]\n",
      "claim_area             1085 non-null object\n",
      "police_report          1085 non-null object\n",
      "claim_type             1085 non-null object\n",
      "claim_amount           1020 non-null float64\n",
      "total_policy_claims    1075 non-null float64\n",
      "fraudulent             1085 non-null object\n",
      "alert_flag             1085 non-null float64\n",
      "dtypes: datetime64[ns](1), float64(4), int64(1), object(10)\n",
      "memory usage: 145.0+ KB\n"
     ]
    }
   ],
   "source": [
    "#6. Check for missing values and impute the missing values with an appropriate value. \n",
    "# (mean for continuous and mode for categorical) \n",
    "insurance_claim.info()"
   ]
  },
  {
   "cell_type": "code",
   "execution_count": 15,
   "metadata": {},
   "outputs": [],
   "source": [
    "#as customers with claim id null have not made any claims, hence removing those records for further analysis\n",
    "insurance_claim = insurance_claim[(insurance_claim.claim_id.isnull() == False)]"
   ]
  },
  {
   "cell_type": "code",
   "execution_count": 16,
   "metadata": {},
   "outputs": [
    {
     "name": "stdout",
     "output_type": "stream",
     "text": [
      "<class 'pandas.core.frame.DataFrame'>\n",
      "Int64Index: 1085 entries, 0 to 1091\n",
      "Data columns (total 16 columns):\n",
      "CUST_ID                1085 non-null int64\n",
      "gender                 1085 non-null object\n",
      "DateOfBirth            1085 non-null object\n",
      "State                  1085 non-null object\n",
      "Contact                1085 non-null object\n",
      "Segment                1085 non-null object\n",
      "claim_id               1085 non-null float64\n",
      "incident_cause         1085 non-null object\n",
      "claim_date             1085 non-null datetime64[ns]\n",
      "claim_area             1085 non-null object\n",
      "police_report          1085 non-null object\n",
      "claim_type             1085 non-null object\n",
      "claim_amount           1020 non-null float64\n",
      "total_policy_claims    1075 non-null float64\n",
      "fraudulent             1085 non-null object\n",
      "alert_flag             1085 non-null float64\n",
      "dtypes: datetime64[ns](1), float64(4), int64(1), object(10)\n",
      "memory usage: 144.1+ KB\n"
     ]
    }
   ],
   "source": [
    "#check the columns with missing values for imputation\n",
    "insurance_claim.info()"
   ]
  },
  {
   "cell_type": "code",
   "execution_count": 17,
   "metadata": {},
   "outputs": [],
   "source": [
    "#only two columns have mising values\n",
    "#claim_amount           1020 non-null float64 --This seems continuous hence missing values to be filled with mean \n",
    "#total_policy_claims    1075 non-null float64 -- float but seems categorial hence missing values to be filled with mode\n",
    "\n",
    "#get the mode for total_policy_claims\n",
    "policy_claims_mode = insurance_claim.total_policy_claims.mode()\n",
    "\n",
    "#fill missing vlaues\n",
    "insurance_claim[\"claim_amount\"].fillna(insurance_claim[\"claim_amount\"].mean(), inplace = True) \n",
    "insurance_claim[\"total_policy_claims\"].fillna(policy_claims_mode[0], inplace = True)"
   ]
  },
  {
   "cell_type": "code",
   "execution_count": 18,
   "metadata": {},
   "outputs": [
    {
     "name": "stdout",
     "output_type": "stream",
     "text": [
      "<class 'pandas.core.frame.DataFrame'>\n",
      "Int64Index: 1085 entries, 0 to 1091\n",
      "Data columns (total 16 columns):\n",
      "CUST_ID                1085 non-null int64\n",
      "gender                 1085 non-null object\n",
      "DateOfBirth            1085 non-null object\n",
      "State                  1085 non-null object\n",
      "Contact                1085 non-null object\n",
      "Segment                1085 non-null object\n",
      "claim_id               1085 non-null float64\n",
      "incident_cause         1085 non-null object\n",
      "claim_date             1085 non-null datetime64[ns]\n",
      "claim_area             1085 non-null object\n",
      "police_report          1085 non-null object\n",
      "claim_type             1085 non-null object\n",
      "claim_amount           1085 non-null float64\n",
      "total_policy_claims    1085 non-null float64\n",
      "fraudulent             1085 non-null object\n",
      "alert_flag             1085 non-null float64\n",
      "dtypes: datetime64[ns](1), float64(4), int64(1), object(10)\n",
      "memory usage: 144.1+ KB\n"
     ]
    }
   ],
   "source": [
    "insurance_claim.info()"
   ]
  },
  {
   "cell_type": "raw",
   "metadata": {},
   "source": [
    "#7. Calculate the age of customers in years. Based on the age, categorize the customers according to the below criteria \n",
    "    Children < 18 \n",
    "    Youth 18-30 \n",
    "    Adult 30-60 \n",
    "    Senior > 60"
   ]
  },
  {
   "cell_type": "code",
   "execution_count": 19,
   "metadata": {},
   "outputs": [],
   "source": [
    "#function to get the age from DOB\n",
    "import datetime\n",
    "def find_age(dob):\n",
    "    today = datetime.date.today()\n",
    "    return today.year - dob.year # considering any fractional part of age in years as 1"
   ]
  },
  {
   "cell_type": "code",
   "execution_count": 20,
   "metadata": {},
   "outputs": [],
   "source": [
    "#converting DateOfBirth from object to datetime, while taking care of century \n",
    "today = pd.Timestamp.now()\n",
    "DOBList =[]\n",
    "\n",
    "for date in pd.to_datetime(insurance_claim.DateOfBirth, format='%d-%b-%y'):\n",
    "    if date>today : #century must be incorrect hence reducing 100 years\n",
    "        date=date-pd.DateOffset(years=100)\n",
    "    DOBList.append(date.strftime('%Y-%m-%d'))\n",
    "\n",
    "insurance_claim.DateOfBirth = DOBList\n",
    "insurance_claim.DateOfBirth = pd.to_datetime(insurance_claim.DateOfBirth,format='%Y-%m-%d')\n",
    "#calculate age using the UDF find_age\n",
    "insurance_claim.loc[:,'Age'] = insurance_claim.DateOfBirth.apply(lambda x : find_age(x))"
   ]
  },
  {
   "cell_type": "code",
   "execution_count": 21,
   "metadata": {},
   "outputs": [],
   "source": [
    "age_bins = [0,18,30,60,110]\n",
    "age_label=['Children','Youth','Adult','Senior']\n",
    "insurance_claim.loc[:,'AgeGroup']=pd.cut(insurance_claim.Age,bins=age_bins,labels=age_label)"
   ]
  },
  {
   "cell_type": "code",
   "execution_count": 22,
   "metadata": {},
   "outputs": [
    {
     "data": {
      "text/plain": [
       "Segment\n",
       "Gold        12829.63\n",
       "Platinum    12341.95\n",
       "Silver      12208.44\n",
       "Name: claim_amount, dtype: float64"
      ]
     },
     "execution_count": 22,
     "metadata": {},
     "output_type": "execute_result"
    }
   ],
   "source": [
    "#8. What is the average amount claimed by the customers from various segments?\n",
    "insurance_claim.groupby('Segment')['claim_amount'].mean().round(2)"
   ]
  },
  {
   "cell_type": "code",
   "execution_count": 23,
   "metadata": {},
   "outputs": [
    {
     "data": {
      "text/plain": [
       "incident_cause\n",
       "Crime                 7.244484e+05\n",
       "Driver error          3.319952e+06\n",
       "Natural causes        1.314121e+06\n",
       "Other causes          3.724985e+06\n",
       "Other driver error    3.318770e+06\n",
       "Name: claim_amount, dtype: float64"
      ]
     },
     "execution_count": 23,
     "metadata": {},
     "output_type": "execute_result"
    }
   ],
   "source": [
    "#9. What is the total claim amount based on incident cause for all the claims that have been done at least 20 days prior to 1st of October, 2018.\n",
    "insurance_claim.claim_date=pd.to_datetime(insurance_claim.claim_date, format='%m/%d/%Y')\n",
    "compare_date=pd.to_datetime('10/1/2018',format='%m/%d/%Y') - pd.DateOffset(days=20)\n",
    "insurance_claim[insurance_claim.claim_date < compare_date].groupby('incident_cause')['claim_amount'].sum()"
   ]
  },
  {
   "cell_type": "code",
   "execution_count": 24,
   "metadata": {},
   "outputs": [
    {
     "data": {
      "text/plain": [
       "26"
      ]
     },
     "execution_count": 24,
     "metadata": {},
     "output_type": "execute_result"
    }
   ],
   "source": [
    "#10. How many adults from TX, DE and AK claimed insurance for driver related issues and causes? \n",
    "insurance_claim[(insurance_claim.AgeGroup == 'Adult') & insurance_claim.incident_cause.str.contains('river') & ((insurance_claim.State == 'TX') | (insurance_claim.State == 'DE') |(insurance_claim.State == 'AK') )].CUST_ID.count()"
   ]
  },
  {
   "cell_type": "code",
   "execution_count": 25,
   "metadata": {},
   "outputs": [
    {
     "data": {
      "image/png": "[encoded data removed]",
      "text/plain": [
       "<Figure size 432x288 with 1 Axes>"
      ]
     },
     "metadata": {},
     "output_type": "display_data"
    }
   ],
   "source": [
    "#11. Draw a pie chart between the aggregated value of claim amount based on gender and segment. \n",
    "#Represent the claim amount as a percentage on the pie chart.\n",
    "pie_gender_segment=insurance_claim.groupby(['gender','Segment'])['claim_amount'].sum()\n",
    "labels=['Female Gold','Female Platinum','Female Silver','Male Gold','Male Platinum','Male Silver']\n",
    "plt.title('Total claim % based on gender and segment')\n",
    "plt.pie(pie_gender_segment,labels = labels,autopct='%1.2f%%')\n",
    "plt.show()"
   ]
  },
  {
   "cell_type": "code",
   "execution_count": 26,
   "metadata": {},
   "outputs": [
    {
     "data": {
      "text/plain": [
       "<matplotlib.axes._subplots.AxesSubplot at 0x29d522ae400>"
      ]
     },
     "execution_count": 26,
     "metadata": {},
     "output_type": "execute_result"
    },
    {
     "data": {
      "image/png": "[encoded data removed]",
      "text/plain": [
       "<Figure size 432x288 with 1 Axes>"
      ]
     },
     "metadata": {
      "needs_background": "light"
     },
     "output_type": "display_data"
    }
   ],
   "source": [
    "#12. Among males and females, which gender had claimed the most for any type of driver related issues?\n",
    "# E.g. This metric can be compared using a bar chart\n",
    "gender_driver_issue=insurance_claim[insurance_claim.incident_cause.str.contains('river')]\n",
    "plt.title('Gender based claim count for driver related issues')\n",
    "plt.xlabel('Gender')\n",
    "plt.ylabel('Total Claim Count')\n",
    "gender_driver_issue.gender.value_counts().plot(kind='bar')"
   ]
  },
  {
   "cell_type": "code",
   "execution_count": 27,
   "metadata": {},
   "outputs": [
    {
     "data": {
      "text/plain": [
       "<matplotlib.axes._subplots.AxesSubplot at 0x29d52333da0>"
      ]
     },
     "execution_count": 27,
     "metadata": {},
     "output_type": "execute_result"
    },
    {
     "data": {
      "image/png": "[encoded data removed]",
      "text/plain": [
       "<Figure size 432x288 with 1 Axes>"
      ]
     },
     "metadata": {
      "needs_background": "light"
     },
     "output_type": "display_data"
    }
   ],
   "source": [
    "#13. Which age group had the maximum fraudulent policy claims? Visualize it on a bar chart.\n",
    "insurance_claim[insurance_claim.fraudulent == 'Yes'].AgeGroup.value_counts().plot(kind = 'bar')\n"
   ]
  },
  {
   "cell_type": "code",
   "execution_count": 28,
   "metadata": {},
   "outputs": [
    {
     "data": {
      "image/png": "[encoded data removed]",
      "text/plain": [
       "<Figure size 432x288 with 1 Axes>"
      ]
     },
     "metadata": {
      "needs_background": "light"
     },
     "output_type": "display_data"
    }
   ],
   "source": [
    "#14. Visualize the monthly trend of the total amount that has been claimed by the customers. \n",
    "#Ensure that on the “month” axis, the month is in a chronological order not alphabetical order. \n",
    "insurance_claim.loc[:,'Monthly_claim_date'] = pd.to_datetime(insurance_claim.claim_date.dt.month.astype(str) + '-' + insurance_claim.claim_date.dt.year.astype(str), format='%m-%Y')\n",
    "monthly_claim_trend=insurance_claim.groupby('Monthly_claim_date',as_index=False)['claim_amount'].sum().sort_values(by='Monthly_claim_date')\n",
    "monthly_claim_trend.set_index(monthly_claim_trend.Monthly_claim_date.dt.month.astype(str) + '-' + monthly_claim_trend.Monthly_claim_date.dt.year.astype(str),inplace=True)\n",
    "monthly_claim_trend.drop(columns=['Monthly_claim_date'],inplace=True)\n",
    "\n",
    "plt.plot(monthly_claim_trend)\n",
    "plt.xticks(monthly_claim_trend.index,rotation=90)\n",
    "plt.xlabel('Months')\n",
    "plt.ylabel('Total Amount Claimed')\n",
    "plt.title('Monthly Trend of Claimed Amount')\n",
    "plt.show()"
   ]
  },
  {
   "cell_type": "code",
   "execution_count": 29,
   "metadata": {},
   "outputs": [
    {
     "name": "stderr",
     "output_type": "stream",
     "text": [
      "C:\\Users\\ADMIN\\Anaconda3\\lib\\site-packages\\seaborn\\axisgrid.py:715: UserWarning: Using the barplot function without specifying `order` is likely to produce an incorrect plot.\n",
      "  warnings.warn(warning)\n",
      "C:\\Users\\ADMIN\\Anaconda3\\lib\\site-packages\\seaborn\\axisgrid.py:720: UserWarning: Using the barplot function without specifying `hue_order` is likely to produce an incorrect plot.\n",
      "  warnings.warn(warning)\n"
     ]
    },
    {
     "data": {
      "image/png": "[encoded data removed]",
      "text/plain": [
       "<Figure size 504.625x216 with 2 Axes>"
      ]
     },
     "metadata": {
      "needs_background": "light"
     },
     "output_type": "display_data"
    }
   ],
   "source": [
    "#15. What is the average claim amount for gender and age categories and \n",
    "#suitably represent the above using a facetted bar chart, one facet that represents fraudulent claims\n",
    "#and the other for non-fraudulent claims.\n",
    "import seaborn as sns\n",
    "\n",
    "avg_claim=insurance_claim.groupby(['gender','AgeGroup','fraudulent'],as_index=False)['claim_amount'].mean()\n",
    "facet_chart=sns.FacetGrid(avg_claim,col='fraudulent')\n",
    "\n",
    "facet_chart=facet_chart.map(sns.barplot,'AgeGroup','claim_amount','gender',palette=['r','b'])\n",
    "facet_chart.add_legend()\n",
    "plt.show()"
   ]
  },
  {
   "cell_type": "markdown",
   "metadata": {},
   "source": [
    "# Part 2 - Stats\n",
    "\n",
    "Based on the conclusions from exploratory analysis as well as suitable statistical tests, answer the below questions. Please include a detailed write-up on the parameters taken into consideration, the Hypothesis testing steps, conclusion from the p-values and the business implications of the statements. "
   ]
  },
  {
   "cell_type": "code",
   "execution_count": 30,
   "metadata": {},
   "outputs": [],
   "source": [
    "import scipy.stats as stats"
   ]
  },
  {
   "cell_type": "raw",
   "metadata": {},
   "source": [
    "16. Is there any similarity in the amount claimed by males and females?\n",
    "\n",
    "    Parameters taken into consideration :\n",
    "        Claim amounts by males\n",
    "        Claim amounts by females\n",
    "    Hypothesis testing : \n",
    "        1. Business probelm is to check if there is any similarity between amount claimed by males and females\n",
    "        2. Ho: Null hypothesis that Male and female claim amounts have identical average values.\n",
    "        3. Ha: Male calims and female claims amounts are not having same expected values.\n",
    "        4. This is a two-sided t-test for 2 independent samples, to compare two continuous variable have identical average (expected) values.             \n",
    "        5. confidence interval normally accepted industry wide is 0.05, will accept the Ho for P-value equal or above this\n",
    "                "
   ]
  },
  {
   "cell_type": "code",
   "execution_count": 32,
   "metadata": {},
   "outputs": [],
   "source": [
    "Males_claim = insurance_claim.claim_amount[insurance_claim.gender == 'Male']\n",
    "Females_claim = insurance_claim.claim_amount[insurance_claim.gender == 'Female']"
   ]
  },
  {
   "cell_type": "code",
   "execution_count": 33,
   "metadata": {},
   "outputs": [
    {
     "name": "stdout",
     "output_type": "stream",
     "text": [
      "12853.058506136278\n",
      "12062.634706623674\n"
     ]
    }
   ],
   "source": [
    "print (Males_claim.mean())\n",
    "print (Females_claim.mean())"
   ]
  },
  {
   "cell_type": "code",
   "execution_count": 34,
   "metadata": {},
   "outputs": [
    {
     "data": {
      "text/plain": [
       "Ttest_indResult(statistic=0.9738138415066818, pvalue=0.33036643165116597)"
      ]
     },
     "execution_count": 34,
     "metadata": {},
     "output_type": "execute_result"
    }
   ],
   "source": [
    "stats.ttest_ind(a = Males_claim, b = Females_claim) # by default equal_var is true"
   ]
  },
  {
   "cell_type": "code",
   "execution_count": 35,
   "metadata": {},
   "outputs": [
    {
     "data": {
      "text/plain": [
       "Ttest_indResult(statistic=0.9746136200857317, pvalue=0.3299696522030814)"
      ]
     },
     "execution_count": 35,
     "metadata": {},
     "output_type": "execute_result"
    }
   ],
   "source": [
    "stats.ttest_ind(a = Males_claim, b = Females_claim,equal_var=False)"
   ]
  },
  {
   "cell_type": "raw",
   "metadata": {},
   "source": [
    "Conclusion: both on assuming equal vairance in the data or not, P-Value is very high (0.33 > 0.05) \n",
    "            Hence accepting the Ho (null hypothesis) \n",
    "Business conclusion is that, there is similarity between males and females claim amounts "
   ]
  },
  {
   "cell_type": "raw",
   "metadata": {},
   "source": [
    "17. Is there any relationship between age category and segment?\n",
    "\n",
    "    Parameters taken into consideration :\n",
    "        Age Category (categorical variable)\n",
    "        Segment (categorical variable)\n",
    "    Hypothesis testing : \n",
    "        1. Business probelm is to check if there is any relationship between age category and segment\n",
    "        2. Chi2 test to be done to check relation between two categorical variables\n",
    "        3. Ho: Null hypothesis is that variables are not influencing each other\n",
    "        4. Ha: Variables are imapcting each other \n",
    "        5. CI = 95%"
   ]
  },
  {
   "cell_type": "code",
   "execution_count": 37,
   "metadata": {},
   "outputs": [
    {
     "data": {
      "text/html": [
       "<div>\n",
       "<style scoped>\n",
       "    .dataframe tbody tr th:only-of-type {\n",
       "        vertical-align: middle;\n",
       "    }\n",
       "\n",
       "    .dataframe tbody tr th {\n",
       "        vertical-align: top;\n",
       "    }\n",
       "\n",
       "    .dataframe thead th {\n",
       "        text-align: right;\n",
       "    }\n",
       "</style>\n",
       "<table border=\"1\" class=\"dataframe\">\n",
       "  <thead>\n",
       "    <tr style=\"text-align: right;\">\n",
       "      <th>Segment</th>\n",
       "      <th>Gold</th>\n",
       "      <th>Platinum</th>\n",
       "      <th>Silver</th>\n",
       "      <th>All</th>\n",
       "    </tr>\n",
       "    <tr>\n",
       "      <th>AgeGroup</th>\n",
       "      <th></th>\n",
       "      <th></th>\n",
       "      <th></th>\n",
       "      <th></th>\n",
       "    </tr>\n",
       "  </thead>\n",
       "  <tbody>\n",
       "    <tr>\n",
       "      <th>Youth</th>\n",
       "      <td>100</td>\n",
       "      <td>111</td>\n",
       "      <td>96</td>\n",
       "      <td>778</td>\n",
       "    </tr>\n",
       "    <tr>\n",
       "      <th>Adult</th>\n",
       "      <td>275</td>\n",
       "      <td>251</td>\n",
       "      <td>252</td>\n",
       "      <td>307</td>\n",
       "    </tr>\n",
       "    <tr>\n",
       "      <th>All</th>\n",
       "      <td>375</td>\n",
       "      <td>362</td>\n",
       "      <td>348</td>\n",
       "      <td>1085</td>\n",
       "    </tr>\n",
       "  </tbody>\n",
       "</table>\n",
       "</div>"
      ],
      "text/plain": [
       "Segment   Gold  Platinum  Silver   All\n",
       "AgeGroup                              \n",
       "Youth      100       111      96   778\n",
       "Adult      275       251     252   307\n",
       "All        375       362     348  1085"
      ]
     },
     "execution_count": 37,
     "metadata": {},
     "output_type": "execute_result"
    }
   ],
   "source": [
    "t=pd.crosstab(insurance_claim.AgeGroup, insurance_claim.Segment, margins =True) #margins would give rows and columns sub totals\n",
    "t"
   ]
  },
  {
   "cell_type": "code",
   "execution_count": 38,
   "metadata": {},
   "outputs": [
    {
     "data": {
      "text/plain": [
       "(410.20309871033885,\n",
       " 1.7892524749884148e-85,\n",
       " 6,\n",
       " array([[ 187.5,  181. ,  174. ,  542.5],\n",
       "        [ 187.5,  181. ,  174. ,  542.5],\n",
       "        [ 375. ,  362. ,  348. , 1085. ]]))"
      ]
     },
     "execution_count": 38,
     "metadata": {},
     "output_type": "execute_result"
    }
   ],
   "source": [
    "stats.chi2_contingency(t)"
   ]
  },
  {
   "cell_type": "raw",
   "metadata": {},
   "source": [
    "Conclusion: P-Value is very low (1.7892524749884148e-85). \n",
    "            Hence rejecting the Ho (null hypothesis) \n",
    "            Variables are imapcting each other \n",
    "Business conclusion is that, there is relation between age and segment of customers and business strategy like marketing and other promotional activities should be done keeping the fact in mind."
   ]
  },
  {
   "cell_type": "raw",
   "metadata": {},
   "source": [
    "18.The current year has shown a significant rise in claim amounts as compared to 2016-17 fiscal average which was $10,000. \n",
    "    \n",
    "    Parameters taken into consideration :\n",
    "        Average of claim amounts 2016-17 fiscal year \n",
    "        claim amounts of 2017-18 fiscal year\n",
    "        (Assuming fiscal year is April to March)\n",
    "    Hypothesis testing : \n",
    "        1. Business probelm is to check if there is significant rise in claim amounts as compared to 2016-17 fiscal year.\n",
    "        2. Test for the null hypothesis that the expected value (mean) of independent observations is equal to the given population mean of 2016-17 fiscal year ($10,000).\n",
    "        3. Ho: Null hypothesis is that there is no rise in claim amount in 2017-18 fiscal year\n",
    "        4. Ha: There is rise in 2017-18 fiscal year (i.e. 2017-18 fiscal year claim > 2016-17 fiscal year claims)\n",
    "        5. CI = 95%"
   ]
  },
  {
   "cell_type": "code",
   "execution_count": 53,
   "metadata": {},
   "outputs": [
    {
     "data": {
      "text/plain": [
       "Ttest_1sampResult(statistic=5.159247697108386, pvalue=3.420299480441544e-07)"
      ]
     },
     "execution_count": 53,
     "metadata": {},
     "output_type": "execute_result"
    }
   ],
   "source": [
    "StartDate=pd.to_datetime('2017/04/01' , format = '%Y/%m/%d')\n",
    "EndDate=pd.to_datetime('2018/03/31' , format = '%Y/%m/%d')\n",
    "Claim_Amount_2017_2018=insurance_claim[(insurance_claim.claim_date >= StartDate) & (insurance_claim.claim_date <= EndDate)]['claim_amount']\n",
    "stats.ttest_1samp(a = Claim_Amount_2017_2018, popmean = 10000)"
   ]
  },
  {
   "cell_type": "code",
   "execution_count": 54,
   "metadata": {},
   "outputs": [
    {
     "data": {
      "text/plain": [
       "12948.367800511516"
      ]
     },
     "execution_count": 54,
     "metadata": {},
     "output_type": "execute_result"
    }
   ],
   "source": [
    "Claim_Amount_2017_2018.mean() # mean for fiscal year 2017-2018"
   ]
  },
  {
   "cell_type": "raw",
   "metadata": {},
   "source": [
    "Conclusion: P-Value is very low (3.420299480441544e-07). \n",
    "            Hence rejecting the Ho (null hypothesis) \n",
    "            There is rise in claim amount in 2017-2018 fiscal year \n",
    "Business conclusion is that, there is significant rise in claim amounts in the current year (2017-2018)\n",
    "Business strategy like preminum on insurance policy etc should be done keeping the fact in mind."
   ]
  },
  {
   "cell_type": "raw",
   "metadata": {},
   "source": [
    "19. Is there any difference between age groups and insurance claims?  \n",
    "    \n",
    "    Parameters taken into consideration :\n",
    "        claim amounts\n",
    "        Different Age Groups\n",
    "    Hypothesis testing : \n",
    "        1. Business probelm is to check if there is any difference between age groups and insurance claims\n",
    "        2. Ho: Null hypothesis is all age groups have identical insurance claim amounts.\n",
    "        3. Ha: all age groups are not having identical insurance claim amounts.\n",
    "        4. This is a one-way ANOVA F-tests for 2 independent samples, to compare two continuous variable have identical values \n",
    "        5. CI 95%"
   ]
  },
  {
   "cell_type": "code",
   "execution_count": 58,
   "metadata": {},
   "outputs": [
    {
     "data": {
      "text/plain": [
       "Adult       778\n",
       "Youth       307\n",
       "Senior        0\n",
       "Children      0\n",
       "Name: AgeGroup, dtype: int64"
      ]
     },
     "execution_count": 58,
     "metadata": {},
     "output_type": "execute_result"
    }
   ],
   "source": [
    "insurance_claim.AgeGroup.value_counts()\n",
    "#as senior and Children have no representation in data, hence moving fwd with Adult and Youth"
   ]
  },
  {
   "cell_type": "code",
   "execution_count": 64,
   "metadata": {},
   "outputs": [
    {
     "name": "stdout",
     "output_type": "stream",
     "text": [
      "181991644.25993067\n",
      "169960241.10593238\n"
     ]
    }
   ],
   "source": [
    "Adult_calims = insurance_claim[insurance_claim.AgeGroup == 'Adult']['claim_amount']\n",
    "Youth_calims = insurance_claim[insurance_claim.AgeGroup == 'Youth']['claim_amount']\n",
    "print (Adult_calims.var())\n",
    "print (Youth_calims.var())"
   ]
  },
  {
   "cell_type": "code",
   "execution_count": 65,
   "metadata": {},
   "outputs": [
    {
     "data": {
      "text/plain": [
       "F_onewayResult(statistic=0.9642714131134505, pvalue=0.326332352736338)"
      ]
     },
     "execution_count": 65,
     "metadata": {},
     "output_type": "execute_result"
    }
   ],
   "source": [
    "stats.f_oneway(Adult_calims, Youth_calims)"
   ]
  },
  {
   "cell_type": "code",
   "execution_count": null,
   "metadata": {},
   "outputs": [],
   "source": [
    "Conclusion: P-Value is very high (0.326332352736338). \n",
    "            Hence accepting the Ho (null hypothesis) \n",
    "            There is no difference in claims made by different age groups \n",
    "Business conclusion is that: pricing, marketing and other strategies on insurance policy can be done alike\n",
    "for all age groups."
   ]
  },
  {
   "cell_type": "raw",
   "metadata": {},
   "source": [
    "20. Is there any relationship between total number of policy claims and the claimed amount?\n",
    "    Parameters taken into consideration :\n",
    "        claim_amount\n",
    "        total_policy_claims\n",
    "    Hypothesis testing : \n",
    "        1. Business probelm is to check if there is any relation between claim_amount and total_policy_claims. \n",
    "           (i.e. with more number of total_policy_claims, claim_amount is also increasing or decreasing)\n",
    "        2. This is a Pearson correlation test, to measures the linear relationship between two continuous variable.\n",
    "        3. Co-relation co-efficient is always between range of -1 to +1"
   ]
  },
  {
   "cell_type": "code",
   "execution_count": 68,
   "metadata": {},
   "outputs": [
    {
     "data": {
      "text/plain": [
       "(-0.017952953318902988, 0.5547051246393566)"
      ]
     },
     "execution_count": 68,
     "metadata": {},
     "output_type": "execute_result"
    }
   ],
   "source": [
    "stats.pearsonr(insurance_claim.total_policy_claims, insurance_claim.claim_amount)"
   ]
  },
  {
   "cell_type": "code",
   "execution_count": 69,
   "metadata": {},
   "outputs": [
    {
     "data": {
      "text/plain": [
       "<matplotlib.axes._subplots.AxesSubplot at 0x29d55837c50>"
      ]
     },
     "execution_count": 69,
     "metadata": {},
     "output_type": "execute_result"
    },
    {
     "data": {
      "image/png": "[encoded data removed]",
      "text/plain": [
       "<Figure size 432x288 with 1 Axes>"
      ]
     },
     "metadata": {
      "needs_background": "light"
     },
     "output_type": "display_data"
    }
   ],
   "source": [
    "sns.scatterplot(insurance_claim.total_policy_claims, insurance_claim.claim_amount)"
   ]
  },
  {
   "cell_type": "code",
   "execution_count": null,
   "metadata": {},
   "outputs": [],
   "source": [
    "Conclusion: The co-relation co-efficient is very small (-0.017952953318902988). \n",
    "            Weak correlation hence concluding that there is no relationship between them \n",
    "Business conclusion is that: total policy claim has no relaiton with aclaim mount \n",
    "                             Both should be considered independent to each other"
   ]
  }
 ],
 "metadata": {
  "kernelspec": {
   "display_name": "Python 3",
   "language": "python",
   "name": "python3"
  },
  "language_info": {
   "codemirror_mode": {
    "name": "ipython",
    "version": 3
   },
   "file_extension": ".py",
   "mimetype": "text/x-python",
   "name": "python",
   "nbconvert_exporter": "python",
   "pygments_lexer": "ipython3",
   "version": "3.7.3"
  }
 },
 "nbformat": 4,
 "nbformat_minor": 2
}
