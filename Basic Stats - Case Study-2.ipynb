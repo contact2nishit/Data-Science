{
 "cells": [
  {
   "cell_type": "code",
   "execution_count": 5,
   "metadata": {},
   "outputs": [],
   "source": [
    "import pandas as pd\n",
    "import numpy as np\n",
    "import matplotlib.pyplot as plt\n",
    "%matplotlib inline\n",
    "import scipy.stats as stats\n"
   ]
  },
  {
   "cell_type": "markdown",
   "metadata": {},
   "source": [
    "# Business Problem\n",
    "This is a peer comparison project. Suppose that you are working for Samsung in customer experience management team. The idea is to regularly monitor the customer satisfaction levels and peer company moves. The competitor company is Apple. The objective is to test two main hypothesis."
   ]
  },
  {
   "cell_type": "code",
   "execution_count": 6,
   "metadata": {},
   "outputs": [
    {
     "data": {
      "text/html": [
       "<div>\n",
       "<style scoped>\n",
       "    .dataframe tbody tr th:only-of-type {\n",
       "        vertical-align: middle;\n",
       "    }\n",
       "\n",
       "    .dataframe tbody tr th {\n",
       "        vertical-align: top;\n",
       "    }\n",
       "\n",
       "    .dataframe thead th {\n",
       "        text-align: right;\n",
       "    }\n",
       "</style>\n",
       "<table border=\"1\" class=\"dataframe\">\n",
       "  <thead>\n",
       "    <tr style=\"text-align: right;\">\n",
       "      <th></th>\n",
       "      <th>Sr No</th>\n",
       "      <th>S_Cust_id</th>\n",
       "      <th>Samsung Score</th>\n",
       "      <th>Apple_Cust_id</th>\n",
       "      <th>Apple_Score</th>\n",
       "    </tr>\n",
       "  </thead>\n",
       "  <tbody>\n",
       "    <tr>\n",
       "      <th>0</th>\n",
       "      <td>1</td>\n",
       "      <td>S336499</td>\n",
       "      <td>94</td>\n",
       "      <td>A336525</td>\n",
       "      <td>82</td>\n",
       "    </tr>\n",
       "    <tr>\n",
       "      <th>1</th>\n",
       "      <td>2</td>\n",
       "      <td>S73004</td>\n",
       "      <td>99</td>\n",
       "      <td>A73011</td>\n",
       "      <td>83</td>\n",
       "    </tr>\n",
       "    <tr>\n",
       "      <th>2</th>\n",
       "      <td>3</td>\n",
       "      <td>S79537</td>\n",
       "      <td>74</td>\n",
       "      <td>A79538</td>\n",
       "      <td>88</td>\n",
       "    </tr>\n",
       "    <tr>\n",
       "      <th>3</th>\n",
       "      <td>4</td>\n",
       "      <td>S769168</td>\n",
       "      <td>74</td>\n",
       "      <td>A769222</td>\n",
       "      <td>80</td>\n",
       "    </tr>\n",
       "    <tr>\n",
       "      <th>4</th>\n",
       "      <td>5</td>\n",
       "      <td>S609791</td>\n",
       "      <td>83</td>\n",
       "      <td>A609801</td>\n",
       "      <td>74</td>\n",
       "    </tr>\n",
       "  </tbody>\n",
       "</table>\n",
       "</div>"
      ],
      "text/plain": [
       "   Sr No S_Cust_id  Samsung Score Apple_Cust_id  Apple_Score\n",
       "0      1   S336499             94       A336525           82\n",
       "1      2    S73004             99        A73011           83\n",
       "2      3    S79537             74        A79538           88\n",
       "3      4   S769168             74       A769222           80\n",
       "4      5   S609791             83       A609801           74"
      ]
     },
     "execution_count": 6,
     "metadata": {},
     "output_type": "execute_result"
    }
   ],
   "source": [
    "#Import required data set\n",
    "dataset=pd.read_csv(\"D:\\Pyhton\\Basic Stats - Case Study-2\\Testing_Of_Hypothesis.csv\")\n",
    "dataset.head(5)"
   ]
  },
  {
   "cell_type": "code",
   "execution_count": 3,
   "metadata": {},
   "outputs": [
    {
     "name": "stdout",
     "output_type": "stream",
     "text": [
      "<class 'pandas.core.frame.DataFrame'>\n",
      "RangeIndex: 100 entries, 0 to 99\n",
      "Data columns (total 5 columns):\n",
      "Sr No            100 non-null int64\n",
      "S_Cust_id        100 non-null object\n",
      "Samsung Score    100 non-null int64\n",
      "Apple_Cust_id    100 non-null object\n",
      "Apple_Score      100 non-null int64\n",
      "dtypes: int64(3), object(2)\n",
      "memory usage: 4.0+ KB\n"
     ]
    }
   ],
   "source": [
    "dataset.info()"
   ]
  },
  {
   "cell_type": "code",
   "execution_count": 10,
   "metadata": {},
   "outputs": [],
   "source": [
    "Samsung_cust=dataset[['S_Cust_id','Samsung Score']]\n",
    "Apple_cust=dataset[['Apple_Cust_id','Apple_Score']]"
   ]
  },
  {
   "cell_type": "code",
   "execution_count": 14,
   "metadata": {},
   "outputs": [
    {
     "name": "stdout",
     "output_type": "stream",
     "text": [
      "Samsung Score    84.9\n",
      "dtype: float64\n",
      "Apple_Score    87.81\n",
      "dtype: float64\n"
     ]
    }
   ],
   "source": [
    "print(Samsung_cust[['Samsung Score']].mean())\n",
    "print(Apple_cust[['Apple_Score']].mean())"
   ]
  },
  {
   "cell_type": "raw",
   "metadata": {},
   "source": [
    "1. The Samsung Average customer satisfaction score is minimum 75%\n",
    "\n",
    "Hypothesis testing : \n",
    "1. Business probelm is to check if sample mean of Samsung customer equals to 75%\n",
    "2. One sample T test for the expected value (mean) of sample of independent observations is equal to the given mean (popmean) to be conducted.\n",
    "3. Ho: Null hypothesis is that the expected value (mean) of a sample of independent observations = 75%\n",
    "4. Ha: Alternative hypothesis is that the expected value (mean) of a sample of independent observations <> 75%\n",
    "5. CI = 95%"
   ]
  },
  {
   "cell_type": "code",
   "execution_count": 11,
   "metadata": {},
   "outputs": [
    {
     "data": {
      "text/plain": [
       "Ttest_1sampResult(statistic=array([8.35828745]), pvalue=array([4.0739777e-13]))"
      ]
     },
     "execution_count": 11,
     "metadata": {},
     "output_type": "execute_result"
    }
   ],
   "source": [
    "stats.ttest_1samp(a=Samsung_cust[['Samsung Score']],popmean = 75)"
   ]
  },
  {
   "cell_type": "raw",
   "metadata": {},
   "source": [
    "Conclusion: P-Value is very low (4.0739777e-13 < 0.05) \n",
    "            Hence rejecting the Ho (null hypothesis) \n",
    "            This implies that with 95% confidence we can say that mean of Samsung customers satisfaction score <> 75%"
   ]
  },
  {
   "cell_type": "raw",
   "metadata": {},
   "source": [
    "2. The overall average satisfaction score of Samsung is same as Apple. There is no significant difference in the satisfaction scores\n",
    "\n",
    "Hypothesis testing : \n",
    "1. Business probelm is to check if average satisfaction score of Samsung is same as Apple. Two continuous independent variables have same expected values. \n",
    "2. T test independent, two-sided test to check if 2 samples have identical expected values will be conducted.\n",
    "(As both the sets have 100 independent samples customer scores, hence not conducting relational test.)\n",
    "3. Ho: Null hypothesis is that there is no difference in average satisfaction score of Samsung and Apple customers\n",
    "4. Ha: There is significant difference in average satisfaction score of Samsung and Apple customers\n",
    "5. CI = 95%"
   ]
  },
  {
   "cell_type": "code",
   "execution_count": 12,
   "metadata": {},
   "outputs": [
    {
     "name": "stdout",
     "output_type": "stream",
     "text": [
      "Ttest_indResult(statistic=array([-1.90642959]), pvalue=array([0.05804261]))\n"
     ]
    }
   ],
   "source": [
    "#Checking on the basis of all parameters: Fruit weight, Seed yeld and seedling lenght\n",
    "print(stats.ttest_ind(a = Samsung_cust[['Samsung Score']], b = Apple_cust[['Apple_Score']]))"
   ]
  },
  {
   "cell_type": "raw",
   "metadata": {},
   "source": [
    "Conclusion: P-Value 0.05804261 > 0.05\n",
    "            Hence accepting the Ho (null hypothesis) \n",
    "            This implies that with 95% confidence we can say, there is no difference in average satisfaction score of Samsung and Apple customers"
   ]
  }
 ],
 "metadata": {
  "kernelspec": {
   "display_name": "Python 3",
   "language": "python",
   "name": "python3"
  },
  "language_info": {
   "codemirror_mode": {
    "name": "ipython",
    "version": 3
   },
   "file_extension": ".py",
   "mimetype": "text/x-python",
   "name": "python",
   "nbconvert_exporter": "python",
   "pygments_lexer": "ipython3",
   "version": "3.7.3"
  }
 },
 "nbformat": 4,
 "nbformat_minor": 2
}
